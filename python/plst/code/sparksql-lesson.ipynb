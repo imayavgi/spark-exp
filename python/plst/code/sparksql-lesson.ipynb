{
 "cells": [
  {
   "cell_type": "code",
   "execution_count": 1,
   "metadata": {},
   "outputs": [],
   "source": [
    "from pyspark.sql import SparkSession"
   ]
  },
  {
   "cell_type": "code",
   "execution_count": 2,
   "metadata": {},
   "outputs": [],
   "source": [
    "spark = SparkSession.builder\\\n",
    "            .appName('sparkSQL') \\\n",
    "            .getOrCreate()"
   ]
  },
  {
   "cell_type": "code",
   "execution_count": 3,
   "metadata": {},
   "outputs": [],
   "source": [
    "from pyspark.sql.types import Row\n",
    "from datetime import datetime"
   ]
  },
  {
   "cell_type": "code",
   "execution_count": 40,
   "metadata": {},
   "outputs": [],
   "source": [
    "record = spark.sparkContext.parallelize([\n",
    "                        Row(id=1,\n",
    "                           name='Jill',\n",
    "                           active=True,\n",
    "                           clubs = ['chess', 'hockey'],\n",
    "                           subjects = {'math':80, 'English':56},\n",
    "                           enrolled = datetime(2014,8,1,14,1,5)\n",
    "                        ),\n",
    "                        Row(id=2,\n",
    "                           name='George',\n",
    "                           active=True,\n",
    "                           clubs = ['chess', 'soccer'],\n",
    "                           subjects = {'math':60, 'English':96},\n",
    "                           enrolled = datetime(2015,3,21,8,2,5)\n",
    "                        )]\n",
    "                       )"
   ]
  },
  {
   "cell_type": "code",
   "execution_count": 8,
   "metadata": {},
   "outputs": [
    {
     "name": "stdout",
     "output_type": "stream",
     "text": [
      "+------+---------------+-------------------+---+------+--------------------+\n",
      "|active|          clubs|           enrolled| id|  name|            subjects|\n",
      "+------+---------------+-------------------+---+------+--------------------+\n",
      "|  true|[chess, hockey]|2014-08-01 14:01:05|  1|  Jill|[English -> 56, m...|\n",
      "|  true|[chess, soccer]|2015-03-21 08:02:05|  2|George|[English -> 96, m...|\n",
      "+------+---------------+-------------------+---+------+--------------------+\n",
      "\n"
     ]
    }
   ],
   "source": [
    "record_df = record.toDF()\n",
    "record_df.show()"
   ]
  },
  {
   "cell_type": "code",
   "execution_count": 13,
   "metadata": {},
   "outputs": [],
   "source": [
    "record_df.createOrReplaceTempView('records')"
   ]
  },
  {
   "cell_type": "code",
   "execution_count": 14,
   "metadata": {},
   "outputs": [
    {
     "name": "stdout",
     "output_type": "stream",
     "text": [
      "+------+---------------+-------------------+---+------+--------------------+\n",
      "|active|          clubs|           enrolled| id|  name|            subjects|\n",
      "+------+---------------+-------------------+---+------+--------------------+\n",
      "|  true|[chess, hockey]|2014-08-01 14:01:05|  1|  Jill|[English -> 56, m...|\n",
      "|  true|[chess, soccer]|2015-03-21 08:02:05|  2|George|[English -> 96, m...|\n",
      "+------+---------------+-------------------+---+------+--------------------+\n",
      "\n"
     ]
    }
   ],
   "source": [
    "all_records_df = sqlContext.sql('SELECT * FROM records')\n",
    "all_records_df.show()"
   ]
  },
  {
   "cell_type": "code",
   "execution_count": 17,
   "metadata": {},
   "outputs": [
    {
     "name": "stdout",
     "output_type": "stream",
     "text": [
      "+---+--------+-----------------+\n",
      "| id|clubs[1]|subjects[English]|\n",
      "+---+--------+-----------------+\n",
      "|  1|  hockey|               56|\n",
      "|  2|  soccer|               96|\n",
      "+---+--------+-----------------+\n",
      "\n"
     ]
    }
   ],
   "source": [
    "sqlContext.sql('select id, clubs[1], subjects[\"English\"] FROM records').show()"
   ]
  },
  {
   "cell_type": "code",
   "execution_count": 18,
   "metadata": {},
   "outputs": [],
   "source": [
    "record_df.createGlobalTempView('global_records')"
   ]
  },
  {
   "cell_type": "code",
   "execution_count": 19,
   "metadata": {},
   "outputs": [
    {
     "name": "stdout",
     "output_type": "stream",
     "text": [
      "+------+---------------+-------------------+---+------+--------------------+\n",
      "|active|          clubs|           enrolled| id|  name|            subjects|\n",
      "+------+---------------+-------------------+---+------+--------------------+\n",
      "|  true|[chess, hockey]|2014-08-01 14:01:05|  1|  Jill|[English -> 56, m...|\n",
      "|  true|[chess, soccer]|2015-03-21 08:02:05|  2|George|[English -> 96, m...|\n",
      "+------+---------------+-------------------+---+------+--------------------+\n",
      "\n"
     ]
    }
   ],
   "source": [
    "sqlContext.sql('SELECT * FROM global_temp.global_records').show()"
   ]
  },
  {
   "cell_type": "code",
   "execution_count": 20,
   "metadata": {},
   "outputs": [],
   "source": [
    "airlinesPath = '../dataset/airlines.csv'\n",
    "flightsPath = '../dataset/flights.csv'\n",
    "airportsPath = '../dataset/airports.csv'"
   ]
  },
  {
   "cell_type": "code",
   "execution_count": 22,
   "metadata": {},
   "outputs": [],
   "source": [
    "airlines = spark.read\\\n",
    "                .format('csv')\\\n",
    "                .option('header','true')\\\n",
    "                .load(airlinesPath)"
   ]
  },
  {
   "cell_type": "code",
   "execution_count": 23,
   "metadata": {},
   "outputs": [],
   "source": [
    "airlines.createOrReplaceTempView('airlines')"
   ]
  },
  {
   "cell_type": "code",
   "execution_count": 25,
   "metadata": {},
   "outputs": [
    {
     "name": "stdout",
     "output_type": "stream",
     "text": [
      "+-----+--------------------+\n",
      "| Code|         Description|\n",
      "+-----+--------------------+\n",
      "|19031|Mackey Internatio...|\n",
      "|19032|Munz Northern Air...|\n",
      "|19033|Cochise Airlines ...|\n",
      "|19034|Golden Gate Airli...|\n",
      "|19035|  Aeromech Inc.: RZZ|\n",
      "|19036|Golden West Airli...|\n",
      "|19037|Puerto Rico Intl ...|\n",
      "|19038|Air America Inc.:...|\n",
      "|19039|Swift Aire Lines ...|\n",
      "|19040|American Central ...|\n",
      "|19041|Valdez Airlines: VEZ|\n",
      "|19042|Southeast Alaska ...|\n",
      "|19043|Altair Airlines I...|\n",
      "|19044|Chitina Air Servi...|\n",
      "|19045|Marco Island Airw...|\n",
      "|19046|Caribbean Air Ser...|\n",
      "|19047|Sundance Airlines...|\n",
      "|19048|Seair Alaska Airl...|\n",
      "|19049|Southeast Airline...|\n",
      "|19050|Alaska Aeronautic...|\n",
      "+-----+--------------------+\n",
      "only showing top 20 rows\n",
      "\n"
     ]
    }
   ],
   "source": [
    "airlines = spark.sql('SELECT * FROM airlines')\n",
    "airlines.show()"
   ]
  },
  {
   "cell_type": "code",
   "execution_count": 26,
   "metadata": {},
   "outputs": [],
   "source": [
    "flights = spark.read\\\n",
    "                .format('csv')\\\n",
    "                .option('header','true')\\\n",
    "                .load(flightsPath)\n",
    "flights.createOrReplaceTempView('flights')"
   ]
  },
  {
   "cell_type": "code",
   "execution_count": 28,
   "metadata": {},
   "outputs": [],
   "source": [
    "total_distance_df = spark.sql('SELECT distance from flights')\\\n",
    "                    .agg({'distance':'sum'})\\\n",
    "                    .withColumnRenamed(\"sum(distance)\",'total_distance')"
   ]
  },
  {
   "cell_type": "code",
   "execution_count": 31,
   "metadata": {},
   "outputs": [],
   "source": [
    "all_delays_2014 = spark.sql(\n",
    "                'SELECT date, airlines, flight_number, departure_delay '+\n",
    "                'FROM flights where departure_delay > 0 and ' +\n",
    "                'year(date) = 2014'\n",
    "                )"
   ]
  },
  {
   "cell_type": "code",
   "execution_count": 32,
   "metadata": {},
   "outputs": [
    {
     "name": "stdout",
     "output_type": "stream",
     "text": [
      "+----------+--------+-------------+---------------+\n",
      "|      date|airlines|flight_number|departure_delay|\n",
      "+----------+--------+-------------+---------------+\n",
      "|2014-04-27|   20366|         5246|          99.00|\n",
      "|2014-04-27|   19393|         2948|          99.00|\n",
      "|2014-04-27|   20366|         5365|          99.00|\n",
      "|2014-04-26|   19977|          616|          99.00|\n",
      "|2014-04-27|   20366|         6030|          99.00|\n",
      "+----------+--------+-------------+---------------+\n",
      "only showing top 5 rows\n",
      "\n"
     ]
    }
   ],
   "source": [
    "all_delays_2014.orderBy(all_delays_2014.departure_delay.desc()).show(5)"
   ]
  },
  {
   "cell_type": "code",
   "execution_count": 33,
   "metadata": {},
   "outputs": [],
   "source": [
    "delay_per_airline = spark.sql(\n",
    "                'SELECT date, airlines,departure_delay '+\n",
    "                'FROM flights'\n",
    "                ) \\\n",
    "                .groupBy('airlines')\\\n",
    "                .agg({'departure_delay' : 'avg'})\\\n",
    "                .withColumnRenamed('avg(departure_delay)', 'departure_delay')"
   ]
  },
  {
   "cell_type": "code",
   "execution_count": 34,
   "metadata": {},
   "outputs": [
    {
     "name": "stdout",
     "output_type": "stream",
     "text": [
      "+--------+-------------------+\n",
      "|airlines|    departure_delay|\n",
      "+--------+-------------------+\n",
      "|   19690|-2.1981308411214955|\n",
      "|   19930|-0.6991515343747522|\n",
      "|   20437|  5.110621095185594|\n",
      "|   19393| 13.429567657134724|\n",
      "|   19977|  8.818392620527979|\n",
      "+--------+-------------------+\n",
      "only showing top 5 rows\n",
      "\n"
     ]
    }
   ],
   "source": [
    "delay_per_airline.show(5)"
   ]
  },
  {
   "cell_type": "code",
   "execution_count": 35,
   "metadata": {},
   "outputs": [],
   "source": [
    "delay_per_airline.createOrReplaceTempView('delay_per_airline')"
   ]
  },
  {
   "cell_type": "code",
   "execution_count": 38,
   "metadata": {},
   "outputs": [],
   "source": [
    "delay_per_airline = spark.sql(\n",
    "                    'select * From delay_per_airline ' +\n",
    "                    'join airlines on ' +\n",
    "                    'airlines.code = delay_per_airline.airlines ' +\n",
    "                    'order by departure_delay DESC'\n",
    "                    )"
   ]
  },
  {
   "cell_type": "code",
   "execution_count": 39,
   "metadata": {},
   "outputs": [],
   "source": [
    "products = spark.read\\\n",
    "                .format('csv')\\\n",
    "                .option('header','true')\\\n",
    "                .load('../dataset/products.csv')"
   ]
  },
  {
   "cell_type": "code",
   "execution_count": 43,
   "metadata": {},
   "outputs": [],
   "source": [
    "import sys\n",
    "from pyspark.sql.window import Window\n",
    "import pyspark.sql.functions as func"
   ]
  },
  {
   "cell_type": "code",
   "execution_count": 44,
   "metadata": {},
   "outputs": [],
   "source": [
    "windowSpec1 = Window.partitionBy(products['category'])\\\n",
    "                    .orderBy(products['price'].desc())"
   ]
  },
  {
   "cell_type": "code",
   "execution_count": 46,
   "metadata": {},
   "outputs": [],
   "source": [
    "price_rank = (func.rank().over(windowSpec1))"
   ]
  },
  {
   "cell_type": "code",
   "execution_count": 48,
   "metadata": {},
   "outputs": [],
   "source": [
    "product_rank = products.select(products['product'],\n",
    "                              products['category'],\n",
    "                              products['price']\n",
    "                              ).withColumn('rank',price_rank )"
   ]
  },
  {
   "cell_type": "code",
   "execution_count": 49,
   "metadata": {},
   "outputs": [
    {
     "name": "stdout",
     "output_type": "stream",
     "text": [
      "+----------+--------+-----+----+\n",
      "|   product|category|price|rank|\n",
      "+----------+--------+-----+----+\n",
      "|    iPhone|  Mobile|  999|   1|\n",
      "|Samsung JX|  Mobile|  799|   2|\n",
      "|Redmi Note|  Mobile|  399|   3|\n",
      "|   OnePlus|  Mobile|  356|   4|\n",
      "|        Mi|  Mobile|  299|   5|\n",
      "|  Micromax|  Mobile|  249|   6|\n",
      "|Samsung TX|  Tablet|  999|   1|\n",
      "|      iPad|  Tablet|  789|   2|\n",
      "|    Lenovo|  Tablet|  499|   3|\n",
      "|        Xu|  Tablet|  267|   4|\n",
      "+----------+--------+-----+----+\n",
      "\n"
     ]
    }
   ],
   "source": [
    "product_rank.show()"
   ]
  },
  {
   "cell_type": "code",
   "execution_count": 50,
   "metadata": {},
   "outputs": [],
   "source": [
    "windowspec2 = Window.partitionBy(products['category'])\\\n",
    "                .orderBy(products['price'].desc())\\\n",
    "                .rowsBetween(-1,0)"
   ]
  },
  {
   "cell_type": "code",
   "execution_count": 52,
   "metadata": {},
   "outputs": [],
   "source": [
    "price_max = func.max(products['price']).over(windowspec2)"
   ]
  },
  {
   "cell_type": "code",
   "execution_count": 55,
   "metadata": {},
   "outputs": [],
   "source": [
    "product_w_price = products.select(products['product'],\n",
    "                              products['category'],\n",
    "                              products['price']\n",
    "                              ).withColumn('price_max',price_max )"
   ]
  },
  {
   "cell_type": "code",
   "execution_count": 56,
   "metadata": {},
   "outputs": [
    {
     "name": "stdout",
     "output_type": "stream",
     "text": [
      "+----------+--------+-----+---------+\n",
      "|   product|category|price|price_max|\n",
      "+----------+--------+-----+---------+\n",
      "|    iPhone|  Mobile|  999|      999|\n",
      "|Samsung JX|  Mobile|  799|      999|\n",
      "|Redmi Note|  Mobile|  399|      799|\n",
      "|   OnePlus|  Mobile|  356|      399|\n",
      "|        Mi|  Mobile|  299|      356|\n",
      "|  Micromax|  Mobile|  249|      299|\n",
      "|Samsung TX|  Tablet|  999|      999|\n",
      "|      iPad|  Tablet|  789|      999|\n",
      "|    Lenovo|  Tablet|  499|      789|\n",
      "|        Xu|  Tablet|  267|      499|\n",
      "+----------+--------+-----+---------+\n",
      "\n"
     ]
    }
   ],
   "source": [
    "product_w_price.show()"
   ]
  },
  {
   "cell_type": "code",
   "execution_count": 57,
   "metadata": {},
   "outputs": [],
   "source": [
    "windowspec3 = Window.partitionBy(products['category'])\\\n",
    "                .orderBy(products['price'].desc())\\\n",
    "                .rangeBetween(-sys.maxsize,sys.maxsize)"
   ]
  },
  {
   "cell_type": "code",
   "execution_count": 59,
   "metadata": {},
   "outputs": [],
   "source": [
    "price_diff = func.max(products['price']).over(windowspec3) - products['price']"
   ]
  },
  {
   "cell_type": "code",
   "execution_count": 60,
   "metadata": {},
   "outputs": [],
   "source": [
    "product_price_diff = products.select(products['product'],\n",
    "                              products['category'],\n",
    "                              products['price'],\n",
    "                              price_diff.alias('price_diff')\n",
    "                              )"
   ]
  },
  {
   "cell_type": "code",
   "execution_count": 61,
   "metadata": {},
   "outputs": [
    {
     "name": "stdout",
     "output_type": "stream",
     "text": [
      "+----------+--------+-----+----------+\n",
      "|   product|category|price|price_diff|\n",
      "+----------+--------+-----+----------+\n",
      "|    iPhone|  Mobile|  999|       0.0|\n",
      "|Samsung JX|  Mobile|  799|     200.0|\n",
      "|Redmi Note|  Mobile|  399|     600.0|\n",
      "|   OnePlus|  Mobile|  356|     643.0|\n",
      "|        Mi|  Mobile|  299|     700.0|\n",
      "|  Micromax|  Mobile|  249|     750.0|\n",
      "|Samsung TX|  Tablet|  999|       0.0|\n",
      "|      iPad|  Tablet|  789|     210.0|\n",
      "|    Lenovo|  Tablet|  499|     500.0|\n",
      "|        Xu|  Tablet|  267|     732.0|\n",
      "+----------+--------+-----+----------+\n",
      "\n"
     ]
    }
   ],
   "source": [
    "product_price_diff.show()"
   ]
  },
  {
   "cell_type": "code",
   "execution_count": null,
   "metadata": {},
   "outputs": [],
   "source": []
  }
 ],
 "metadata": {
  "kernelspec": {
   "display_name": "Python 3",
   "language": "python",
   "name": "python3"
  },
  "language_info": {
   "codemirror_mode": {
    "name": "ipython",
    "version": 3
   },
   "file_extension": ".py",
   "mimetype": "text/x-python",
   "name": "python",
   "nbconvert_exporter": "python",
   "pygments_lexer": "ipython3",
   "version": "3.7.4"
  }
 },
 "nbformat": 4,
 "nbformat_minor": 2
}
